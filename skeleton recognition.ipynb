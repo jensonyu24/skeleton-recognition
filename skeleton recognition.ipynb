{
 "cells": [
  {
   "cell_type": "code",
   "execution_count": 11,
   "id": "5f1cbd8f",
   "metadata": {},
   "outputs": [],
   "source": [
    "import cv2\n",
    "import mediapipe as mp\n",
    "#import tqdm"
   ]
  },
  {
   "cell_type": "code",
   "execution_count": 12,
   "id": "5e62e2de",
   "metadata": {},
   "outputs": [],
   "source": [
    "import numpy as np"
   ]
  },
  {
   "cell_type": "code",
   "execution_count": 13,
   "id": "bdb4520f",
   "metadata": {},
   "outputs": [
    {
     "name": "stdout",
     "output_type": "stream",
     "text": [
      "arm64\n"
     ]
    }
   ],
   "source": [
    "import platform\n",
    "print(platform.machine())"
   ]
  },
  {
   "cell_type": "code",
   "execution_count": 14,
   "id": "d89d5ab0",
   "metadata": {},
   "outputs": [],
   "source": [
    "import matplotlib.pyplot as plt\n",
    "%matplotlib inline"
   ]
  },
  {
   "cell_type": "code",
   "execution_count": 15,
   "id": "bb3b9273",
   "metadata": {},
   "outputs": [],
   "source": [
    "def show_img(img):\n",
    "    image_rgb = cv2.cvtColor(img, cv2.COLOR_BGR2RGB)\n",
    "    plt.imshow(image_rgb)\n",
    "    plt.show()"
   ]
  },
  {
   "cell_type": "markdown",
   "id": "9d0229df",
   "metadata": {},
   "source": [
    "# 导入模型"
   ]
  },
  {
   "cell_type": "code",
   "execution_count": 16,
   "id": "c8678e11",
   "metadata": {},
   "outputs": [],
   "source": [
    "mp_pose = mp.solutions.pose\n",
    "mp_obj = mp.solutions.objectron\n",
    "drawing = mp.solutions.drawing_utils"
   ]
  },
  {
   "cell_type": "code",
   "execution_count": 17,
   "id": "ba2563cc",
   "metadata": {},
   "outputs": [
    {
     "name": "stdout",
     "output_type": "stream",
     "text": [
      "Object `obj.Objectron` not found.\n"
     ]
    }
   ],
   "source": [
    "obj.Objectron?\n"
   ]
  },
  {
   "cell_type": "code",
   "execution_count": 18,
   "id": "63b43980",
   "metadata": {},
   "outputs": [
    {
     "name": "stderr",
     "output_type": "stream",
     "text": [
      "WARNING: All log messages before absl::InitializeLog() is called are written to STDERR\n",
      "I0000 00:00:1754186873.308492 1633718 gl_context.cc:369] GL version: 2.1 (2.1 Metal - 89.3), renderer: Apple M1\n",
      "INFO: Created TensorFlow Lite XNNPACK delegate for CPU.\n",
      "W0000 00:00:1754186873.413514 1641831 inference_feedback_manager.cc:114] Feedback manager requires a model with a single signature inference. Disabling support for feedback tensors.\n",
      "W0000 00:00:1754186873.435942 1641827 inference_feedback_manager.cc:114] Feedback manager requires a model with a single signature inference. Disabling support for feedback tensors.\n"
     ]
    }
   ],
   "source": [
    "pose = mp_pose.Pose(\n",
    "    static_image_mode=True,\n",
    "    model_complexity=1,\n",
    "    smooth_landmarks=True,\n",
    "    enable_segmentation=True,\n",
    "    smooth_segmentation=True,\n",
    "    min_detection_confidence=0.9,\n",
    "    min_tracking_confidence=0.5,\n",
    ")\n",
    "\n"
   ]
  },
  {
   "cell_type": "code",
   "execution_count": 19,
   "id": "a5ba34ff",
   "metadata": {},
   "outputs": [],
   "source": [
    "def process_frame(img):\n",
    "   \n",
    "    result = pose.process(cv2.cvtColor(img, cv2.COLOR_BGR2RGB))\n",
    "    return result"
   ]
  },
  {
   "cell_type": "code",
   "execution_count": 94,
   "id": "2605a3ab",
   "metadata": {},
   "outputs": [
    {
     "ename": "IndentationError",
     "evalue": "unexpected indent (979448887.py, line 2)",
     "output_type": "error",
     "traceback": [
      "\u001b[0;36m  Cell \u001b[0;32mIn[94], line 2\u001b[0;36m\u001b[0m\n\u001b[0;31m    show_img(img)\u001b[0m\n\u001b[0m    ^\u001b[0m\n\u001b[0;31mIndentationError\u001b[0m\u001b[0;31m:\u001b[0m unexpected indent\n"
     ]
    }
   ],
   "source": [
    " drawing.draw_landmarks(img, result.pose_landmarks, mp_pose.POSE_CONNECTIONS)\n",
    "    show_img(img)"
   ]
  },
  {
   "cell_type": "code",
   "execution_count": 10,
   "id": "028259d9",
   "metadata": {},
   "outputs": [
    {
     "ename": "NameError",
     "evalue": "name 'result' is not defined",
     "output_type": "error",
     "traceback": [
      "\u001b[0;31m---------------------------------------------------------------------------\u001b[0m",
      "\u001b[0;31mNameError\u001b[0m                                 Traceback (most recent call last)",
      "Cell \u001b[0;32mIn[10], line 1\u001b[0m\n\u001b[0;32m----> 1\u001b[0m all_landmarks \u001b[38;5;241m=\u001b[39m \u001b[43mresult\u001b[49m\u001b[38;5;241m.\u001b[39mpose_landmarks\u001b[38;5;241m.\u001b[39mlandmark\n\u001b[1;32m      2\u001b[0m coordinates \u001b[38;5;241m=\u001b[39m []\n\u001b[1;32m      4\u001b[0m \u001b[38;5;28;01mfor\u001b[39;00m land_mark \u001b[38;5;129;01min\u001b[39;00m all_landmarks:\n",
      "\u001b[0;31mNameError\u001b[0m: name 'result' is not defined"
     ]
    }
   ],
   "source": [
    "all_landmarks = result.pose_landmarks.landmark\n",
    "coordinates = []\n",
    "\n",
    "for land_mark in all_landmarks:\n",
    "    coordinates.append((land_mark.x, land_mark.y, land_mark.z, land_mark.visibility))\n",
    "    \n",
    "    \n",
    "coordinates"
   ]
  },
  {
   "cell_type": "code",
   "execution_count": 20,
   "id": "eda00d5b",
   "metadata": {},
   "outputs": [],
   "source": [
    "def Video_processing(path, out_path):\n",
    "    cap = cv2.VideoCapture(path)\n",
    "    all_frames = []\n",
    "    if cap.isOpened():\n",
    "        \n",
    "        fps = cap.get(cv2.CAP_PROP_FPS)\n",
    "        width = int(cap.get(cv2.CAP_PROP_FRAME_WIDTH))\n",
    "        height = int(cap.get(cv2.CAP_PROP_FRAME_HEIGHT))\n",
    "        frame_size = (width, height)\n",
    "        fourcc = cv2.VideoWriter_fourcc(*'mp4v')\n",
    "        video_writer = cv2.VideoWriter(out_path, fourcc, fps, frame_size)\n",
    "        while True:\n",
    "            flag , frame = cap.read()\n",
    "            \n",
    "            #return frame\n",
    "            if not flag:\n",
    "                break\n",
    "            result = process_frame(frame)\n",
    "            \n",
    "            #empty_frame = np.zeros((width, height, 3), dtype= np.uint8)\n",
    "            frame.fill(0)\n",
    "            drawing.draw_landmarks(frame, result.pose_landmarks, mp_pose.POSE_CONNECTIONS)\n",
    "           \n",
    "            #print()\n",
    "            #processed_frame = result\n",
    "            #processed_frame = cv2.cvtColor(result, cv2.COLOR_BGR2RGB)\n",
    "            #cv2.imshow('frame',processed_frame)\n",
    "            #all_frames.append(processed_frame)\n",
    "            video_writer.write(frame)\n",
    "              \n",
    "            \n",
    "            \n",
    "        cap.release()\n",
    "        video_writer.release()\n",
    "    \n",
    "    \n",
    "    \n",
    "\n",
    "    cv2.destroyAllWindows()\n",
    "        \n",
    "            "
   ]
  },
  {
   "cell_type": "code",
   "execution_count": 21,
   "id": "9498c3d6",
   "metadata": {},
   "outputs": [
    {
     "name": "stderr",
     "output_type": "stream",
     "text": [
      "W0000 00:00:1754186881.793437 1641829 landmark_projection_calculator.cc:186] Using NORM_RECT without IMAGE_DIMENSIONS is only supported for the square ROI. Provide IMAGE_DIMENSIONS or use PROJECTION_MATRIX.\n"
     ]
    }
   ],
   "source": [
    "Video_processing(\"demo.mp4\", \"demo_out.mp4\")"
   ]
  },
  {
   "cell_type": "code",
   "execution_count": 24,
   "id": "2ce94194",
   "metadata": {},
   "outputs": [],
   "source": [
    "\n",
    "\n",
    "class Video_player(object):\n",
    "    def __init__(self, filename):\n",
    "        self.filename = filename\n",
    "        \n",
    "    def play(self, name, size = (600, 600)):\n",
    "        cap = cv2.VideoCapture(self.name)\n",
    "        cv2.resizeWindow(name, size)\n",
    "        \n",
    "        if cap.isOpened():\n",
    "            while True:\n",
    "                flag , frame = cap.read()\n",
    "\n",
    "                if flag:\n",
    "                    cv2.imshow(\"test\",frame)\n",
    "\n",
    "                    if cv2.waitKey(25)& 0xFF == ord(\" \"):\n",
    "                        break\n",
    "\n",
    "            cap.release()\n",
    "            cv2.waitKey(1)\n",
    "            cv2.destroyAllWindows()\n",
    "            print('window closed')\n",
    "\n",
    "        else:\n",
    "            print(\"video cannot be opened\")"
   ]
  },
  {
   "cell_type": "code",
   "execution_count": 28,
   "id": "3f64f058",
   "metadata": {},
   "outputs": [
    {
     "ename": "KeyboardInterrupt",
     "evalue": "",
     "output_type": "error",
     "traceback": [
      "\u001b[0;31m---------------------------------------------------------------------------\u001b[0m",
      "\u001b[0;31mKeyboardInterrupt\u001b[0m                         Traceback (most recent call last)",
      "Cell \u001b[0;32mIn[28], line 2\u001b[0m\n\u001b[1;32m      1\u001b[0m video \u001b[38;5;241m=\u001b[39m Video_player(\u001b[38;5;124m\"\u001b[39m\u001b[38;5;124mdemo_out.mp4\u001b[39m\u001b[38;5;124m\"\u001b[39m)\n\u001b[0;32m----> 2\u001b[0m \u001b[43mvideo\u001b[49m\u001b[38;5;241;43m.\u001b[39;49m\u001b[43mplay\u001b[49m\u001b[43m(\u001b[49m\u001b[38;5;124;43m\"\u001b[39;49m\u001b[38;5;124;43mvideo1\u001b[39;49m\u001b[38;5;124;43m\"\u001b[39;49m\u001b[43m)\u001b[49m\n",
      "Cell \u001b[0;32mIn[24], line 13\u001b[0m, in \u001b[0;36mVideo_player.play\u001b[0;34m(self, name, size)\u001b[0m\n\u001b[1;32m     10\u001b[0m \u001b[38;5;28;01mif\u001b[39;00m cap\u001b[38;5;241m.\u001b[39misOpened():\n\u001b[1;32m     12\u001b[0m     \u001b[38;5;28;01mwhile\u001b[39;00m \u001b[38;5;28;01mTrue\u001b[39;00m:\n\u001b[0;32m---> 13\u001b[0m         flag , frame \u001b[38;5;241m=\u001b[39m \u001b[43mcap\u001b[49m\u001b[38;5;241;43m.\u001b[39;49m\u001b[43mread\u001b[49m\u001b[43m(\u001b[49m\u001b[43m)\u001b[49m\n\u001b[1;32m     15\u001b[0m         \u001b[38;5;28;01mif\u001b[39;00m flag:\n\u001b[1;32m     16\u001b[0m             cv2\u001b[38;5;241m.\u001b[39mimshow(\u001b[38;5;124m\"\u001b[39m\u001b[38;5;124mtest\u001b[39m\u001b[38;5;124m\"\u001b[39m,frame)\n",
      "\u001b[0;31mKeyboardInterrupt\u001b[0m: "
     ]
    }
   ],
   "source": [
    "video = Video_player(\"demo_out.mp4\")\n",
    "video.play(\"video1\")"
   ]
  },
  {
   "cell_type": "code",
   "execution_count": 15,
   "id": "5e4415b9",
   "metadata": {},
   "outputs": [],
   "source": [
    "import numpy as np\n"
   ]
  },
  {
   "cell_type": "code",
   "execution_count": 16,
   "id": "6c352b1a",
   "metadata": {},
   "outputs": [
    {
     "data": {
      "text/plain": [
       "array([False, False,  True,  True,  True])"
      ]
     },
     "execution_count": 16,
     "metadata": {},
     "output_type": "execute_result"
    }
   ],
   "source": [
    "array = np.array([1,2,3,4,5])\n",
    "array > 2"
   ]
  },
  {
   "cell_type": "code",
   "execution_count": 66,
   "id": "a696d31d",
   "metadata": {},
   "outputs": [],
   "source": [
    "img = cv2.imread(\"posture1.jiff\")\n",
    "cv2.imshow(\"test\", img)\n",
    "cv2.waitKey(0)\n",
    "cv2.destroyAllWindows()"
   ]
  },
  {
   "cell_type": "code",
   "execution_count": 67,
   "id": "ee3eeb87",
   "metadata": {},
   "outputs": [
    {
     "ename": "NameError",
     "evalue": "name 'export' is not defined",
     "output_type": "error",
     "traceback": [
      "\u001b[0;31m---------------------------------------------------------------------------\u001b[0m",
      "\u001b[0;31mNameError\u001b[0m                                 Traceback (most recent call last)",
      "Cell \u001b[0;32mIn[67], line 1\u001b[0m\n\u001b[0;32m----> 1\u001b[0m \u001b[43mexport\u001b[49m \n",
      "\u001b[0;31mNameError\u001b[0m: name 'export' is not defined"
     ]
    }
   ],
   "source": []
  },
  {
   "cell_type": "code",
   "execution_count": null,
   "id": "0dbc39c2",
   "metadata": {},
   "outputs": [],
   "source": []
  }
 ],
 "metadata": {
  "kernelspec": {
   "display_name": "Python (ARM-native)",
   "language": "python",
   "name": "arm-jupyter"
  },
  "language_info": {
   "codemirror_mode": {
    "name": "ipython",
    "version": 3
   },
   "file_extension": ".py",
   "mimetype": "text/x-python",
   "name": "python",
   "nbconvert_exporter": "python",
   "pygments_lexer": "ipython3",
   "version": "3.10.18"
  }
 },
 "nbformat": 4,
 "nbformat_minor": 5
}
